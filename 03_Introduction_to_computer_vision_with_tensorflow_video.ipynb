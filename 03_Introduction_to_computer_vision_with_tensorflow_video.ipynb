{
  "nbformat": 4,
  "nbformat_minor": 0,
  "metadata": {
    "colab": {
      "provenance": [],
      "gpuType": "T4",
      "mount_file_id": "1GWTEVQMFZxsxniEF8Qr5nJ9RY9LYvaIa",
      "authorship_tag": "ABX9TyNGFWA4BkFHnztM5qU31Osn",
      "include_colab_link": true
    },
    "kernelspec": {
      "name": "python3",
      "display_name": "Python 3"
    },
    "language_info": {
      "name": "python"
    },
    "accelerator": "GPU"
  },
  "cells": [
    {
      "cell_type": "markdown",
      "metadata": {
        "id": "view-in-github",
        "colab_type": "text"
      },
      "source": [
        "<a href=\"https://colab.research.google.com/github/JJThoms1/03_Introduction_to_computer_vision_with_tensorflow_video/blob/main/03_Introduction_to_computer_vision_with_tensorflow_video.ipynb\" target=\"_parent\"><img src=\"https://colab.research.google.com/assets/colab-badge.svg\" alt=\"Open In Colab\"/></a>"
      ]
    },
    {
      "cell_type": "markdown",
      "source": [
        "# Introduction to Convolutional Neural Network and Computer Vision with TensorFlow\n",
        "\n",
        "Computer vision is the practice of writing algorithms which can discover patterns in visual data. Such as a camera of a self-driving car recognizing the car in front."
      ],
      "metadata": {
        "id": "JtvLlcIOBfYz"
      }
    },
    {
      "cell_type": "markdown",
      "source": [
        "## Get the data\n",
        "\n",
        "The images we're working with are from the Food101 dataset (100 different classes of food): https://www.kaggle.com/datasets/dansbecker/food-101?select=food-101.zip\n",
        "\n",
        "However, we've modified it to only use two classes (pizza 🍕 & steak 🥩) using the images data modification notebook: https://github.com/mrdbourke/tensorflow-deep-learning/blob/main/extras/image_data_modification.ipynb\n",
        "\n",
        "> 🔑 **Note:** We start with a smaller dataset so we can experiment quickly and figure out what works (or better yet, what doesn't work) before scaling up."
      ],
      "metadata": {
        "id": "feP1TrGxCS7R"
      }
    },
    {
      "cell_type": "code",
      "source": [
        "import zipfile\n",
        "\n",
        "!wget https://storage.googleapis.com/ztm_tf_course/food_vision/pizza_steak.zip\n",
        "\n",
        "# Unzip the downloaded file\n",
        "zip_ref = zipfile.ZipFile(\"pizza_steak.zip\")\n",
        "zip_ref.extractall()\n",
        "zip_ref.close()"
      ],
      "metadata": {
        "colab": {
          "base_uri": "https://localhost:8080/"
        },
        "id": "qFyoweEIl3qW",
        "outputId": "60f52fbd-d3f4-42c3-a251-0f750b795389"
      },
      "execution_count": 62,
      "outputs": [
        {
          "output_type": "stream",
          "name": "stdout",
          "text": [
            "--2024-09-06 20:21:00--  https://storage.googleapis.com/ztm_tf_course/food_vision/pizza_steak.zip\n",
            "Resolving storage.googleapis.com (storage.googleapis.com)... 172.253.118.207, 74.125.200.207, 74.125.130.207, ...\n",
            "Connecting to storage.googleapis.com (storage.googleapis.com)|172.253.118.207|:443... connected.\n",
            "HTTP request sent, awaiting response... 200 OK\n",
            "Length: 109540975 (104M) [application/zip]\n",
            "Saving to: ‘pizza_steak.zip.1’\n",
            "\n",
            "pizza_steak.zip.1   100%[===================>] 104.47M  22.8MB/s    in 5.7s    \n",
            "\n",
            "2024-09-06 20:21:07 (18.2 MB/s) - ‘pizza_steak.zip.1’ saved [109540975/109540975]\n",
            "\n"
          ]
        }
      ]
    },
    {
      "cell_type": "markdown",
      "source": [
        "## Inspect the data (become on with it)\n",
        "\n",
        "A very crucial step at the beginning of any machine learning project is becoming one with the data.\n",
        "\n",
        "And for a computer vision project, this usually means visualizing many samples of your data."
      ],
      "metadata": {
        "id": "Z5PiMHUZmueU"
      }
    },
    {
      "cell_type": "code",
      "source": [
        "!ls pizza_steak"
      ],
      "metadata": {
        "colab": {
          "base_uri": "https://localhost:8080/"
        },
        "id": "2efvuvJ7lVSL",
        "outputId": "30d7f23e-21d7-410c-cbd4-7ce5199bc5cd"
      },
      "execution_count": 63,
      "outputs": [
        {
          "output_type": "stream",
          "name": "stdout",
          "text": [
            "test  train\n"
          ]
        }
      ]
    },
    {
      "cell_type": "code",
      "source": [
        "!ls pizza_steak/train"
      ],
      "metadata": {
        "colab": {
          "base_uri": "https://localhost:8080/"
        },
        "id": "vL3h9ECqlxqO",
        "outputId": "b3ffe196-5a85-40cc-b482-cadb244c1b61"
      },
      "execution_count": 64,
      "outputs": [
        {
          "output_type": "stream",
          "name": "stdout",
          "text": [
            "pizza  steak\n"
          ]
        }
      ]
    },
    {
      "cell_type": "code",
      "source": [
        "!ls pizza_steak/train/steak"
      ],
      "metadata": {
        "colab": {
          "base_uri": "https://localhost:8080/"
        },
        "id": "0hHakuF-lznH",
        "outputId": "8edbe76c-6f44-4c28-e17b-1ac41a853ba6"
      },
      "execution_count": 65,
      "outputs": [
        {
          "output_type": "stream",
          "name": "stdout",
          "text": [
            "1000205.jpg  1598345.jpg  2062248.jpg  2548974.jpg  3030578.jpg  3571963.jpg  510757.jpg\n",
            "100135.jpg   1598885.jpg  2081995.jpg  2549316.jpg  3047807.jpg  3576078.jpg  513129.jpg\n",
            "101312.jpg   1600179.jpg  2087958.jpg  2561199.jpg  3059843.jpg  3577618.jpg  513842.jpg\n",
            "1021458.jpg  1600794.jpg  2088030.jpg  2563233.jpg  3074367.jpg  3577732.jpg  523535.jpg\n",
            "1032846.jpg  160552.jpg   2088195.jpg  256592.jpg   3082120.jpg  3578934.jpg  525041.jpg\n",
            "10380.jpg    1606596.jpg  2090493.jpg  2568848.jpg  3094354.jpg  358042.jpg   534560.jpg\n",
            "1049459.jpg  1615395.jpg  2090504.jpg  2573392.jpg  3095301.jpg  358045.jpg   534633.jpg\n",
            "1053665.jpg  1618011.jpg  2125877.jpg  2592401.jpg  3099645.jpg  3591821.jpg  536535.jpg\n",
            "1068516.jpg  1619357.jpg  2129685.jpg  2599817.jpg  3100476.jpg  359330.jpg   541410.jpg\n",
            "1068975.jpg  1621763.jpg  2133717.jpg  2603058.jpg  3110387.jpg  3601483.jpg  543691.jpg\n",
            "1081258.jpg  1623325.jpg  2136662.jpg  2606444.jpg  3113772.jpg  3606642.jpg  560503.jpg\n",
            "1090122.jpg  1624450.jpg  213765.jpg   2614189.jpg  3116018.jpg  3609394.jpg  561972.jpg\n",
            "1093966.jpg  1624747.jpg  2138335.jpg  2614649.jpg  3128952.jpg  361067.jpg   56240.jpg\n",
            "1098844.jpg  1628861.jpg  2140776.jpg  2615718.jpg  3130412.jpg  3613455.jpg  56409.jpg\n",
            "1100074.jpg  1632774.jpg  214320.jpg   2619625.jpg  3136.jpg\t 3621464.jpg  564530.jpg\n",
            "1105280.jpg  1636831.jpg  2146963.jpg  2622140.jpg  313851.jpg\t 3621562.jpg  568972.jpg\n",
            "1117936.jpg  1645470.jpg  215222.jpg   262321.jpg   3140083.jpg  3621565.jpg  576725.jpg\n",
            "1126126.jpg  1647351.jpg  2154126.jpg  2625330.jpg  3140147.jpg  3623556.jpg  588739.jpg\n",
            "114601.jpg   1650002.jpg  2154779.jpg  2628106.jpg  3142045.jpg  3640915.jpg  590142.jpg\n",
            "1147047.jpg  165639.jpg   2159975.jpg  2629750.jpg  3142618.jpg  3643951.jpg  60633.jpg\n",
            "1147883.jpg  1658186.jpg  2163079.jpg  2643906.jpg  3142674.jpg  3653129.jpg  60655.jpg\n",
            "1155665.jpg  1658443.jpg  217250.jpg   2644457.jpg  3143192.jpg  3656752.jpg  606820.jpg\n",
            "1163977.jpg  165964.jpg   2172600.jpg  2648423.jpg  314359.jpg\t 3663518.jpg  612551.jpg\n",
            "1190233.jpg  167069.jpg   2173084.jpg  2651300.jpg  3157832.jpg  3663800.jpg  614975.jpg\n",
            "1208405.jpg  1675632.jpg  217996.jpg   2653594.jpg  3159818.jpg  3664376.jpg  616809.jpg\n",
            "1209120.jpg  1678108.jpg  2193684.jpg  2661577.jpg  3162376.jpg  3670607.jpg  628628.jpg\n",
            "1212161.jpg  168006.jpg   220341.jpg   2668916.jpg  3168620.jpg  3671021.jpg  632427.jpg\n",
            "1213988.jpg  1682496.jpg  22080.jpg    268444.jpg   3171085.jpg  3671877.jpg  636594.jpg\n",
            "1219039.jpg  1684438.jpg  2216146.jpg  2691461.jpg  317206.jpg\t 368073.jpg   637374.jpg\n",
            "1225762.jpg  168775.jpg   2222018.jpg  2706403.jpg  3173444.jpg  368162.jpg   640539.jpg\n",
            "1230968.jpg  1697339.jpg  2223787.jpg  270687.jpg   3180182.jpg  368170.jpg   644777.jpg\n",
            "1236155.jpg  1710569.jpg  2230959.jpg  2707522.jpg  31881.jpg\t 3693649.jpg  644867.jpg\n",
            "1241193.jpg  1714605.jpg  2232310.jpg  2711806.jpg  3191589.jpg  3700079.jpg  658189.jpg\n",
            "1248337.jpg  1724387.jpg  2233395.jpg  2716993.jpg  3204977.jpg  3704103.jpg  660900.jpg\n",
            "1257104.jpg  1724717.jpg  2238681.jpg  2724554.jpg  320658.jpg\t 3707493.jpg  663014.jpg\n",
            "126345.jpg   172936.jpg   2238802.jpg  2738227.jpg  3209173.jpg  3716881.jpg  664545.jpg\n",
            "1264050.jpg  1736543.jpg  2254705.jpg  2748917.jpg  3223400.jpg  3724677.jpg  667075.jpg\n",
            "1264154.jpg  1736968.jpg  225990.jpg   2760475.jpg  3223601.jpg  3727036.jpg  669180.jpg\n",
            "1264858.jpg  1746626.jpg  2260231.jpg  2761427.jpg  3241894.jpg  3727491.jpg  669960.jpg\n",
            "127029.jpg   1752330.jpg  2268692.jpg  2765887.jpg  3245533.jpg  3736065.jpg  6709.jpg\n",
            "1289900.jpg  1761285.jpg  2271133.jpg  2768451.jpg  3245622.jpg  37384.jpg    674001.jpg\n",
            "1290362.jpg  176508.jpg   227576.jpg   2771149.jpg  3247009.jpg  3743286.jpg  676189.jpg\n",
            "1295457.jpg  1772039.jpg  2283057.jpg  2779040.jpg  3253588.jpg  3745515.jpg  681609.jpg\n",
            "1312841.jpg  1777107.jpg  2286639.jpg  2788312.jpg  3260624.jpg  3750472.jpg  6926.jpg\n",
            "1313316.jpg  1787505.jpg  2287136.jpg  2788759.jpg  326587.jpg\t 3752362.jpg  703556.jpg\n",
            "1324791.jpg  179293.jpg   2291292.jpg  2796102.jpg  32693.jpg\t 3766099.jpg  703909.jpg\n",
            "1327567.jpg  1816235.jpg  229323.jpg   280284.jpg   3271253.jpg  3770370.jpg  704316.jpg\n",
            "1327667.jpg  1822407.jpg  2300534.jpg  2807888.jpg  3274423.jpg  377190.jpg   714298.jpg\n",
            "1333055.jpg  1823263.jpg  2300845.jpg  2815172.jpg  3280453.jpg  3777020.jpg  720060.jpg\n",
            "1334054.jpg  1826066.jpg  231296.jpg   2818805.jpg  3298495.jpg  3777482.jpg  726083.jpg\n",
            "1335556.jpg  1828502.jpg  2315295.jpg  2823872.jpg  330182.jpg\t 3781152.jpg  728020.jpg\n",
            "1337814.jpg  1828969.jpg  2323132.jpg  2824680.jpg  3306627.jpg  3787809.jpg  732986.jpg\n",
            "1340977.jpg  1829045.jpg  2324994.jpg  2825100.jpg  3315727.jpg  3788729.jpg  734445.jpg\n",
            "1343209.jpg  1829088.jpg  2327701.jpg  2826987.jpg  331860.jpg\t 3790962.jpg  735441.jpg\n",
            "134369.jpg   1836332.jpg  2331076.jpg  2832499.jpg  332232.jpg\t 3792514.jpg  740090.jpg\n",
            "1344105.jpg  1839025.jpg  233964.jpg   2832960.jpg  3322909.jpg  379737.jpg   745189.jpg\n",
            "134598.jpg   1839481.jpg  2344227.jpg  285045.jpg   332557.jpg\t 3807440.jpg  752203.jpg\n",
            "1346387.jpg  183995.jpg   234626.jpg   285147.jpg   3326734.jpg  381162.jpg   75537.jpg\n",
            "1348047.jpg  184110.jpg   234704.jpg   2855315.jpg  3330642.jpg  3812039.jpg  756655.jpg\n",
            "1351372.jpg  184226.jpg   2357281.jpg  2856066.jpg  3333128.jpg  3829392.jpg  762210.jpg\n",
            "1362989.jpg  1846706.jpg  2361812.jpg  2859933.jpg  3333735.jpg  3830872.jpg  763690.jpg\n",
            "1367035.jpg  1849364.jpg  2365287.jpg  286219.jpg   3334973.jpg  38442.jpg    767442.jpg\n",
            "1371177.jpg  1849463.jpg  2374582.jpg  2862562.jpg  3335013.jpg  3855584.jpg  786409.jpg\n",
            "1375640.jpg  1849542.jpg  239025.jpg   2865730.jpg  3335267.jpg  3857508.jpg  80215.jpg\n",
            "1382427.jpg  1853564.jpg  2390628.jpg  2878151.jpg  3346787.jpg  386335.jpg   802348.jpg\n",
            "1392718.jpg  1869467.jpg  2392910.jpg  2880035.jpg  3364420.jpg  3867460.jpg  804684.jpg\n",
            "1395906.jpg  1870942.jpg  2394465.jpg  2881783.jpg  336637.jpg\t 3868959.jpg  812163.jpg\n",
            "1400760.jpg  187303.jpg   2395127.jpg  2884233.jpg  3372616.jpg  3869679.jpg  813486.jpg\n",
            "1403005.jpg  187521.jpg   2396291.jpg  2890573.jpg  3375959.jpg  388776.jpg   819027.jpg\n",
            "1404770.jpg  1888450.jpg  2400975.jpg  2893832.jpg  3381560.jpg  3890465.jpg  822550.jpg\n",
            "140832.jpg   1889336.jpg  2403776.jpg  2893892.jpg  3382936.jpg  3894222.jpg  823766.jpg\n",
            "141056.jpg   1907039.jpg  2403907.jpg  2907177.jpg  3386119.jpg  3895825.jpg  827764.jpg\n",
            "141135.jpg   1925230.jpg  240435.jpg   290850.jpg   3388717.jpg  389739.jpg   830007.jpg\n",
            "1413972.jpg  1927984.jpg  2404695.jpg  2909031.jpg  3389138.jpg  3916407.jpg  838344.jpg\n",
            "1421393.jpg  1930577.jpg  2404884.jpg  2910418.jpg  3393547.jpg  393349.jpg   853327.jpg\n",
            "1428947.jpg  1937872.jpg  2407770.jpg  2912290.jpg  3393688.jpg  393494.jpg   854150.jpg\n",
            "1433912.jpg  1941807.jpg  2412263.jpg  2916448.jpg  3396589.jpg  398288.jpg   864997.jpg\n",
            "143490.jpg   1942333.jpg  2425062.jpg  2916967.jpg  339891.jpg\t 40094.jpg    885571.jpg\n",
            "1445352.jpg  1945132.jpg  2425389.jpg  2927833.jpg  3417789.jpg  401094.jpg   907107.jpg\n",
            "1446401.jpg  1961025.jpg  2435316.jpg  2928643.jpg  3425047.jpg  401144.jpg   908261.jpg\n",
            "1453991.jpg  1966300.jpg  2437268.jpg  2929179.jpg  3434983.jpg  401651.jpg   910672.jpg\n",
            "1456841.jpg  1966967.jpg  2437843.jpg  2936477.jpg  3435358.jpg  405173.jpg   911803.jpg\n",
            "146833.jpg   1969596.jpg  2440131.jpg  2938012.jpg  3438319.jpg  405794.jpg   91432.jpg\n",
            "1476404.jpg  1971757.jpg  2443168.jpg  2938151.jpg  3444407.jpg  40762.jpg    914570.jpg\n",
            "1485083.jpg  1976160.jpg  2446660.jpg  2939678.jpg  345734.jpg\t 413325.jpg   922752.jpg\n",
            "1487113.jpg  1984271.jpg  2455944.jpg  2940544.jpg  3460673.jpg  417368.jpg   923772.jpg\n",
            "148916.jpg   1987213.jpg  2458401.jpg  2940621.jpg  3465327.jpg  4176.jpg     926414.jpg\n",
            "149087.jpg   1987639.jpg  2487306.jpg  2949079.jpg  3466159.jpg  42125.jpg    931356.jpg\n",
            "1493169.jpg  1995118.jpg  248841.jpg   295491.jpg   3469024.jpg  421476.jpg   937133.jpg\n",
            "149682.jpg   1995252.jpg  2489716.jpg  296268.jpg   3470083.jpg  421561.jpg   945791.jpg\n",
            "1508094.jpg  199754.jpg   2490489.jpg  2964732.jpg  3476564.jpg  438871.jpg   947877.jpg\n",
            "1512226.jpg  2002400.jpg  2495884.jpg  2965021.jpg  3478318.jpg  43924.jpg    952407.jpg\n",
            "1512347.jpg  2011264.jpg  2495903.jpg  2966859.jpg  3488748.jpg  440188.jpg   952437.jpg\n",
            "1524526.jpg  2012996.jpg  2499364.jpg  2977966.jpg  3492328.jpg  442757.jpg   955466.jpg\n",
            "1530833.jpg  2013535.jpg  2500292.jpg  2979061.jpg  3518960.jpg  443210.jpg   9555.jpg\n",
            "1539499.jpg  2017387.jpg  2509017.jpg  2983260.jpg  3522209.jpg  444064.jpg   961341.jpg\n",
            "1541672.jpg  2018173.jpg  250978.jpg   2984311.jpg  3524429.jpg  444709.jpg   97656.jpg\n",
            "1548239.jpg  2020613.jpg  2514432.jpg  2988960.jpg  3528458.jpg  447557.jpg   979110.jpg\n",
            "1550997.jpg  2032669.jpg  2526838.jpg  2989882.jpg  3531805.jpg  461187.jpg   980247.jpg\n",
            "1552530.jpg  203450.jpg   252858.jpg   2995169.jpg  3536023.jpg  461689.jpg   982988.jpg\n",
            "15580.jpg    2034628.jpg  2532239.jpg  2996324.jpg  3538682.jpg  465494.jpg   987732.jpg\n",
            "1559052.jpg  2036920.jpg  2534567.jpg  3000131.jpg  3540750.jpg  468384.jpg   996684.jpg\n",
            "1563266.jpg  2038418.jpg  2535431.jpg  3002350.jpg  354329.jpg\t 477486.jpg\n",
            "1567554.jpg  2042975.jpg  2535456.jpg  3007772.jpg  3547166.jpg  482022.jpg\n",
            "1575322.jpg  2045647.jpg  2538000.jpg  3008192.jpg  3553911.jpg  482465.jpg\n",
            "1588879.jpg  2050584.jpg  2543081.jpg  3009617.jpg  3556871.jpg  483788.jpg\n",
            "1594719.jpg  2052542.jpg  2544643.jpg  3011642.jpg  355715.jpg\t 493029.jpg\n",
            "1595869.jpg  2056627.jpg  2547797.jpg  3020591.jpg  356234.jpg\t 503589.jpg\n"
          ]
        }
      ]
    },
    {
      "cell_type": "code",
      "source": [
        "import os\n",
        "\n",
        "# Walk through pizza_steak directory and list number of files\n",
        "for dirpath, dirnames, filenames in os.walk(\"pizza_steak\"):\n",
        "  print(f\"There are {len(dirnames)} directories and {len(filenames)} images in '{dirpath}'.\")"
      ],
      "metadata": {
        "colab": {
          "base_uri": "https://localhost:8080/"
        },
        "id": "qCbl8sb5l10Y",
        "outputId": "bdc05696-6eac-430c-837d-96e9f1182651"
      },
      "execution_count": 66,
      "outputs": [
        {
          "output_type": "stream",
          "name": "stdout",
          "text": [
            "There are 2 directories and 0 images in 'pizza_steak'.\n",
            "There are 2 directories and 0 images in 'pizza_steak/test'.\n",
            "There are 0 directories and 250 images in 'pizza_steak/test/steak'.\n",
            "There are 0 directories and 250 images in 'pizza_steak/test/pizza'.\n",
            "There are 2 directories and 0 images in 'pizza_steak/train'.\n",
            "There are 0 directories and 750 images in 'pizza_steak/train/steak'.\n",
            "There are 0 directories and 750 images in 'pizza_steak/train/pizza'.\n"
          ]
        }
      ]
    },
    {
      "cell_type": "code",
      "source": [
        "# Another way to find out how many images are in a file\n",
        "num_steak_images_train = len(os.listdir(\"pizza_steak/train/steak\"))\n",
        "\n",
        "num_steak_images_train"
      ],
      "metadata": {
        "colab": {
          "base_uri": "https://localhost:8080/"
        },
        "id": "-t5uFFVNmvFL",
        "outputId": "ee60737a-a6e1-4b6b-fef5-b1be49a97aab"
      },
      "execution_count": 67,
      "outputs": [
        {
          "output_type": "execute_result",
          "data": {
            "text/plain": [
              "750"
            ]
          },
          "metadata": {},
          "execution_count": 67
        }
      ]
    },
    {
      "cell_type": "markdown",
      "source": [
        "To visualize our images, first let's get the class names programmatically."
      ],
      "metadata": {
        "id": "NCYnf_o3qUJD"
      }
    },
    {
      "cell_type": "code",
      "source": [
        "# Get the classnames programmatically\n",
        "import pathlib\n",
        "import numpy as np\n",
        "data_dir = pathlib.Path(\"pizza_steak/train\")\n",
        "class_names = np.array(sorted([item.name for item in data_dir.glob('*')])) # created a list of class_names from the subdirectory\n",
        "# class_names = class_names[:1] <# this removes .DS_store\n",
        "print(class_names)"
      ],
      "metadata": {
        "colab": {
          "base_uri": "https://localhost:8080/"
        },
        "id": "cDKxcLYmqQjf",
        "outputId": "904c268a-d1aa-45e4-b0d7-374d6f8834b5"
      },
      "execution_count": 68,
      "outputs": [
        {
          "output_type": "stream",
          "name": "stdout",
          "text": [
            "['pizza' 'steak']\n"
          ]
        }
      ]
    },
    {
      "cell_type": "code",
      "source": [
        "# Let's visualize our images\n",
        "import matplotlib.pyplot as plt\n",
        "import matplotlib.image as mpimg\n",
        "import random\n",
        "\n",
        "def view_random_image(target_dir, target_class):\n",
        "  # Setup target directory (we'll view images from here)\n",
        "  target_folder = target_dir+target_class\n",
        "\n",
        "  # Get a random image path\n",
        "  random_image = random.sample(os.listdir(target_folder), 1)\n",
        "  print(random_image)\n",
        "\n",
        "  # Read in the image and plot it using matplotlib\n",
        "  img = mpimg.imread(target_folder + \"/\" + random_image[0])\n",
        "  plt.imshow(img)\n",
        "  plt.title(target_class)\n",
        "  plt.axis(\"off\")\n",
        "\n",
        "  print(f\"Image shape: {img.shape}\") # show the shape of the image\n",
        "\n",
        "  return img"
      ],
      "metadata": {
        "id": "1bH5b7dnrBwJ"
      },
      "execution_count": 69,
      "outputs": []
    },
    {
      "cell_type": "code",
      "source": [
        "# View random image from the training set\n",
        "img = view_random_image(target_dir=\"pizza_steak/train/\",\n",
        "                        target_class=\"pizza\")"
      ],
      "metadata": {
        "colab": {
          "base_uri": "https://localhost:8080/",
          "height": 464
        },
        "id": "kIYowMhcmm-m",
        "outputId": "2bda5388-ad0c-4e5c-f88b-b2cee3912238"
      },
      "execution_count": 70,
      "outputs": [
        {
          "output_type": "stream",
          "name": "stdout",
          "text": [
            "['111051.jpg']\n",
            "Image shape: (512, 382, 3)\n"
          ]
        },
        {
          "output_type": "display_data",
          "data": {
            "text/plain": [
              "<Figure size 640x480 with 1 Axes>"
            ],
            "image/png": "[encoded data removed]"
          },
          "metadata": {}
        }
      ]
    },
    {
      "cell_type": "code",
      "source": [
        "# The images we've imported and plotted are actually giant arrays/tensors of different pixel values\n",
        "import tensorflow as tf\n",
        "tf.constant(img)"
      ],
      "metadata": {
        "colab": {
          "base_uri": "https://localhost:8080/"
        },
        "id": "OOREw9AYmulv",
        "outputId": "bd32392d-90d2-406b-faf9-10b500d4025e"
      },
      "execution_count": 71,
      "outputs": [
        {
          "output_type": "execute_result",
          "data": {
            "text/plain": [
              "<tf.Tensor: shape=(512, 382, 3), dtype=uint8, numpy=\n",
              "array([[[ 44,  66,  63],\n",
              "        [ 47,  69,  67],\n",
              "        [ 36,  55,  61],\n",
              "        ...,\n",
              "        [120, 130, 131],\n",
              "        [120, 125, 129],\n",
              "        [119, 124, 128]],\n",
              "\n",
              "       [[ 41,  63,  60],\n",
              "        [ 46,  68,  66],\n",
              "        [ 40,  59,  65],\n",
              "        ...,\n",
              "        [105, 115, 116],\n",
              "        [106, 114, 117],\n",
              "        [106, 114, 117]],\n",
              "\n",
              "       [[ 42,  64,  61],\n",
              "        [ 47,  69,  67],\n",
              "        [ 42,  61,  67],\n",
              "        ...,\n",
              "        [ 93, 107, 108],\n",
              "        [ 94, 106, 106],\n",
              "        [ 93, 103, 104]],\n",
              "\n",
              "       ...,\n",
              "\n",
              "       [[183, 159, 115],\n",
              "        [183, 159, 115],\n",
              "        [182, 158, 114],\n",
              "        ...,\n",
              "        [240, 231, 222],\n",
              "        [242, 233, 226],\n",
              "        [244, 235, 228]],\n",
              "\n",
              "       [[188, 163, 122],\n",
              "        [185, 160, 119],\n",
              "        [182, 157, 116],\n",
              "        ...,\n",
              "        [240, 233, 225],\n",
              "        [243, 234, 229],\n",
              "        [244, 235, 230]],\n",
              "\n",
              "       [[192, 167, 127],\n",
              "        [186, 161, 121],\n",
              "        [181, 156, 116],\n",
              "        ...,\n",
              "        [242, 235, 227],\n",
              "        [245, 236, 231],\n",
              "        [246, 237, 232]]], dtype=uint8)>"
            ]
          },
          "metadata": {},
          "execution_count": 71
        }
      ]
    },
    {
      "cell_type": "code",
      "source": [
        "# View the image shape\n",
        "img.shape # returns width, height and color channels"
      ],
      "metadata": {
        "colab": {
          "base_uri": "https://localhost:8080/"
        },
        "id": "AFHBti7vnZg6",
        "outputId": "455c061d-5234-4830-8e2d-334cdd4f14bb"
      },
      "execution_count": 72,
      "outputs": [
        {
          "output_type": "execute_result",
          "data": {
            "text/plain": [
              "(512, 382, 3)"
            ]
          },
          "metadata": {},
          "execution_count": 72
        }
      ]
    },
    {
      "cell_type": "markdown",
      "source": [
        "🔑 **Note:** As we've discussed before, many machine learning models, including neural networks prefer the values they work with to be between 0 and 1. Knowing this, one of the most common preprocessing steps for working with images is to **scale** (also referred to as **normalize**) their pixel values by dividing the image arrays by 225. (since 225 is the maximum pixel value)."
      ],
      "metadata": {
        "id": "PyI2eCIhbsuZ"
      }
    },
    {
      "cell_type": "code",
      "source": [
        "# Get all the pixel values between 0 & 1\n",
        "img/255."
      ],
      "metadata": {
        "colab": {
          "base_uri": "https://localhost:8080/"
        },
        "id": "ESfD0uubpVAJ",
        "outputId": "ea781313-408e-4ee1-d683-3eae444e4066"
      },
      "execution_count": 73,
      "outputs": [
        {
          "output_type": "execute_result",
          "data": {
            "text/plain": [
              "array([[[0.17254902, 0.25882353, 0.24705882],\n",
              "        [0.18431373, 0.27058824, 0.2627451 ],\n",
              "        [0.14117647, 0.21568627, 0.23921569],\n",
              "        ...,\n",
              "        [0.47058824, 0.50980392, 0.51372549],\n",
              "        [0.47058824, 0.49019608, 0.50588235],\n",
              "        [0.46666667, 0.48627451, 0.50196078]],\n",
              "\n",
              "       [[0.16078431, 0.24705882, 0.23529412],\n",
              "        [0.18039216, 0.26666667, 0.25882353],\n",
              "        [0.15686275, 0.23137255, 0.25490196],\n",
              "        ...,\n",
              "        [0.41176471, 0.45098039, 0.45490196],\n",
              "        [0.41568627, 0.44705882, 0.45882353],\n",
              "        [0.41568627, 0.44705882, 0.45882353]],\n",
              "\n",
              "       [[0.16470588, 0.25098039, 0.23921569],\n",
              "        [0.18431373, 0.27058824, 0.2627451 ],\n",
              "        [0.16470588, 0.23921569, 0.2627451 ],\n",
              "        ...,\n",
              "        [0.36470588, 0.41960784, 0.42352941],\n",
              "        [0.36862745, 0.41568627, 0.41568627],\n",
              "        [0.36470588, 0.40392157, 0.40784314]],\n",
              "\n",
              "       ...,\n",
              "\n",
              "       [[0.71764706, 0.62352941, 0.45098039],\n",
              "        [0.71764706, 0.62352941, 0.45098039],\n",
              "        [0.71372549, 0.61960784, 0.44705882],\n",
              "        ...,\n",
              "        [0.94117647, 0.90588235, 0.87058824],\n",
              "        [0.94901961, 0.91372549, 0.88627451],\n",
              "        [0.95686275, 0.92156863, 0.89411765]],\n",
              "\n",
              "       [[0.7372549 , 0.63921569, 0.47843137],\n",
              "        [0.7254902 , 0.62745098, 0.46666667],\n",
              "        [0.71372549, 0.61568627, 0.45490196],\n",
              "        ...,\n",
              "        [0.94117647, 0.91372549, 0.88235294],\n",
              "        [0.95294118, 0.91764706, 0.89803922],\n",
              "        [0.95686275, 0.92156863, 0.90196078]],\n",
              "\n",
              "       [[0.75294118, 0.65490196, 0.49803922],\n",
              "        [0.72941176, 0.63137255, 0.4745098 ],\n",
              "        [0.70980392, 0.61176471, 0.45490196],\n",
              "        ...,\n",
              "        [0.94901961, 0.92156863, 0.89019608],\n",
              "        [0.96078431, 0.9254902 , 0.90588235],\n",
              "        [0.96470588, 0.92941176, 0.90980392]]])"
            ]
          },
          "metadata": {},
          "execution_count": 73
        }
      ]
    },
    {
      "cell_type": "markdown",
      "source": [
        "## An end-to-end example\n",
        "\n",
        "Let's build a convolutional neural network to find patterns in our images, more specifically we need a way to:\n",
        "\n",
        "* Load our images\n",
        "* Preprocess our images\n",
        "* Build a CNN to find patterns in our images\n",
        "* Compile our CNN\n",
        "* Fit the CNN to our training data"
      ],
      "metadata": {
        "id": "TOAtdF-vqA8t"
      }
    },
    {
      "cell_type": "code",
      "source": [
        "import tensorflow as tf\n",
        "from tensorflow.keras.preprocessing.image import ImageDataGenerator\n",
        "from tensorflow.keras.layers import Input, Conv2D, MaxPool2D, Flatten, Dense\n",
        "from tensorflow.keras.models import Sequential\n",
        "import os\n",
        "\n",
        "# set the seed\n",
        "tf.random.set_seed(42)\n",
        "\n",
        "# Preprocess data (get all of the pixel values between 1 and 0, also called scaling/normalization)\n",
        "train_datagen = ImageDataGenerator(rescale=1./255)\n",
        "valid_datagen = ImageDataGenerator(rescale=1./255)\n",
        "\n",
        "# Set up paths to our data directories\n",
        "train_dir = \"/content/pizza_steak/train\"\n",
        "test_dir = \"/content/pizza_steak/test\"\n",
        "\n",
        "# Import data from directories and turn it into batches\n",
        "train_data = train_datagen.flow_from_directory(directory=train_dir,\n",
        "                                               batch_size=32,\n",
        "                                               target_size=(224, 224),\n",
        "                                               class_mode=\"binary\",\n",
        "                                               seed=42)\n",
        "\n",
        "valid_data = valid_datagen.flow_from_directory(directory=test_dir,\n",
        "                                               batch_size=32,\n",
        "                                               target_size=(224, 224),\n",
        "                                               class_mode=\"binary\",\n",
        "                                               seed=42)\n",
        "\n",
        "\n",
        "# Build a CNN model (same as the Tiny VGG on the CNN explainer website)\n",
        "model_1 = tf.keras.models.Sequential([\n",
        "    tf.keras.layers.Conv2D(filters=10, kernel_size=3, activation=\"relu\",input_shape=(224, 224, 3)),\n",
        "    tf.keras.layers.Conv2D(10, 3, activation=\"relu\"),\n",
        "    tf.keras.layers.MaxPool2D(pool_size=2,padding=\"valid\"),\n",
        "    tf.keras.layers.Conv2D(10, 3, activation=\"relu\"),\n",
        "    tf.keras.layers.Conv2D(10, 3, activation=\"relu\"),\n",
        "    tf.keras.layers.MaxPool2D(2),\n",
        "    tf.keras.layers.Flatten(),\n",
        "    tf.keras.layers.Dense(1, activation=\"sigmoid\")\n",
        "])\n",
        "\n",
        "# Compile our CNN\n",
        "model_1.compile(loss=\"binary_crossentropy\",\n",
        "                optimizer=tf.keras.optimizers.Adam(),\n",
        "                metrics=[\"accuracy\"])\n",
        "\n",
        "# Calculate steps_per_epoch and validation_steps\n",
        "steps_per_epoch = train_data.samples // train_data.batch_size\n",
        "validation_steps = valid_data.samples // valid_data.batch_size\n",
        "\n",
        "# Fit the model\n",
        "history_1 = model_1.fit(\n",
        "    train_data,\n",
        "    epochs=5,\n",
        "    steps_per_epoch=steps_per_epoch * 5,\n",
        "    validation_data=valid_data,\n",
        "    validation_steps=validation_steps)"
      ],
      "metadata": {
        "colab": {
          "base_uri": "https://localhost:8080/"
        },
        "id": "wYzf2BmC3Rcl",
        "outputId": "f243656b-b9fc-47d8-b8eb-3f88aeb98e13"
      },
      "execution_count": null,
      "outputs": [
        {
          "output_type": "stream",
          "name": "stdout",
          "text": [
            "Found 1500 images belonging to 2 classes.\n",
            "Found 500 images belonging to 2 classes.\n",
            "Epoch 1/5\n",
            "\u001b[1m230/230\u001b[0m \u001b[32m━━━━━━━━━━━━━━━━━━━━\u001b[0m\u001b[37m\u001b[0m \u001b[1m11s\u001b[0m 32ms/step - accuracy: 0.7073 - loss: 0.5653 - val_accuracy: 0.7792 - val_loss: 0.4707\n",
            "Epoch 2/5\n",
            "\u001b[1m 40/230\u001b[0m \u001b[32m━━━\u001b[0m\u001b[37m━━━━━━━━━━━━━━━━━\u001b[0m \u001b[1m16s\u001b[0m 86ms/step - accuracy: 0.8235 - loss: 0.4237"
          ]
        }
      ]
    },
    {
      "cell_type": "markdown",
      "source": [
        "> 🔑 **Note:** If the above cell is taking longer than ~10 seconds per epoch, make sure you're using a GPU by going to Runtime -> Change Runtime Type -> Hardware Accelerator -> GPU (you may have to rerun some cells above)"
      ],
      "metadata": {
        "id": "9xb8dQe4E3oW"
      }
    },
    {
      "cell_type": "code",
      "source": [
        "# Get a model summary\n",
        "model_1.summary()"
      ],
      "metadata": {
        "id": "Dv9qYABv47ps"
      },
      "execution_count": null,
      "outputs": []
    },
    {
      "cell_type": "markdown",
      "source": [
        "## Using the same model as before\n",
        "\n",
        "Replicate the model we've built in a previous section to see if it works with our image data.\n",
        "\n",
        "The model we're building is from [TensorFlow playground](https://playground.tensorflow.org/#activation=relu&batchSize=10&dataset=circle&regDataset=reg-plane&learningRate=0.001&regularizationRate=0&noise=0&networkShape=4,4&seed=0.79156&showTestData=false&discretize=false&percTrainData=50&x=true&y=true&xTimesY=false&xSquared=false&ySquared=false&cosX=false&sinX=false&cosY=false&sinY=false&collectStats=false&problem=classification&initZero=false&hideText=false)"
      ],
      "metadata": {
        "id": "AfP7jj8DMBZO"
      }
    },
    {
      "cell_type": "code",
      "source": [
        "train_data"
      ],
      "metadata": {
        "id": "8nt-2cQs2agO"
      },
      "execution_count": null,
      "outputs": []
    },
    {
      "cell_type": "code",
      "source": [
        "# Set random seed\n",
        "tf.random.set_seed(42)\n",
        "\n",
        "# Create a model to replicate the TensorFlow Playground model\n",
        "model_2 = tf.keras.Sequential([\n",
        "  tf.keras.layers.Flatten(input_shape=(224, 224, 3)),\n",
        "  tf.keras.layers.Dense(4, activation=\"relu\"),\n",
        "  tf.keras.layers.Dense(4, activation=\"relu\"),\n",
        "  tf.keras.layers.Dense(1, activation=\"sigmoid\")\n",
        "])\n",
        "\n",
        "# Compile the model\n",
        "model_2.compile(loss=\"binary_crossentropy\",\n",
        "                optimizer=tf.keras.optimizers.Adam(),\n",
        "                metrics=[\"accuracy\"])\n",
        "\n",
        "# Calculate steps_per_epoch and validation_steps\n",
        "steps_per_epoch = train_data.samples // train_data.batch_size\n",
        "validation_steps = valid_data.samples // valid_data.batch_size\n",
        "\n",
        "# Fit the model\n",
        "history_2 = model_2.fit(train_data,\n",
        "    epochs=5,\n",
        "    steps_per_epoch=steps_per_epoch * 5,\n",
        "    validation_data=valid_data,\n",
        "    validation_steps=validation_steps)"
      ],
      "metadata": {
        "id": "k0GGbv9Xum3R"
      },
      "execution_count": null,
      "outputs": []
    },
    {
      "cell_type": "code",
      "source": [
        "# Get a summary of model_2\n",
        "model_2.summary()"
      ],
      "metadata": {
        "id": "8V7J9t8Vl3dn"
      },
      "execution_count": null,
      "outputs": []
    },
    {
      "cell_type": "markdown",
      "source": [
        "Despite having 20x more parameters than our CNN (model_1) model_2 performs terribly... let's try to imporve it."
      ],
      "metadata": {
        "id": "8-lSwu5QdbDA"
      }
    },
    {
      "cell_type": "code",
      "source": [
        "# Set the random seed\n",
        "tf.random.set_seed(42)\n",
        "\n",
        "# Create the model (same as above but let's step it up a bit)\n",
        "model_3 = tf.keras.Sequential([\n",
        "  tf.keras.layers.Flatten(input_shape=(224, 224, 3)),\n",
        "  tf.keras.layers.Dense(100, activation=\"relu\"),\n",
        "  tf.keras.layers.Dense(100, activation=\"relu\"),\n",
        "  tf.keras.layers.Dense(100, activation=\"relu\"),\n",
        "  tf.keras.layers.Dense(1, activation=\"sigmoid\")\n",
        "])\n",
        "\n",
        "# Compile the model\n",
        "model_3.compile(loss=\"binary_crossentropy\",\n",
        "                optimizer=tf.keras.optimizers.Adam(),\n",
        "                metrics=[\"accuracy\"])\n",
        "\n",
        "# Fit the model\n",
        "history_3 = model_3.fit(train_data,\n",
        "                        epochs=5,\n",
        "                        steps_per_epoch=steps_per_epoch * 5,\n",
        "                        validation_data=valid_data,\n",
        "                        validation_steps=validation_steps)"
      ],
      "metadata": {
        "id": "C80_twCnXqzx"
      },
      "execution_count": null,
      "outputs": []
    },
    {
      "cell_type": "code",
      "source": [
        "# Get a summary of model_3\n",
        "model_3.summary()"
      ],
      "metadata": {
        "id": "5HvNkiI5fNcv"
      },
      "execution_count": null,
      "outputs": []
    },
    {
      "cell_type": "markdown",
      "source": [
        "🔑**Note:** You can think of trainable parameters as **patterns a model can learn from data.** Intuitively, you might think more if better. And in lots of cases, it is. But in this case, the difference here is the two different stylesof model we're using. Where a series of dense layers has a number of different learnable patterns, **a convolutional neural network seeks to sort out and learn the most important patterns in an image.** So even though these are less learnable parameters in our convolutional neural network, these are often more helpful in deciphering between differnt **features** in a image."
      ],
      "metadata": {
        "id": "T370U5vag2bw"
      }
    },
    {
      "cell_type": "code",
      "source": [
        "model_1.summary()"
      ],
      "metadata": {
        "id": "uC7kkaTSf8Yf"
      },
      "execution_count": null,
      "outputs": []
    },
    {
      "cell_type": "markdown",
      "source": [
        "## Binary Classification: Let's break it down\n",
        "\n",
        "1. Become one with the data (visualize, valid_data)\n",
        "2. Preprocess the data (prepare it for our model, main step here was scaling/normalizing & turning our data into batches)\n",
        "3. Create a model (start with a baseline model and build upon it)\n",
        "4. Fit the model\n",
        "5. Evaluate the model\n",
        "6. Adjust different parameters and improve the model (try to be our baseline)\n",
        "7. Repeat until satisfied (experiment, experiment, experiment)"
      ],
      "metadata": {
        "id": "3ekmCrTbJyyU"
      }
    },
    {
      "cell_type": "markdown",
      "source": [
        "1. Become one with the data"
      ],
      "metadata": {
        "id": "El2FX7myK4TU"
      }
    },
    {
      "cell_type": "code",
      "source": [
        "# Visualize data\n",
        "plt.figure()\n",
        "plt.subplot(1, 2, 1)\n",
        "steak_img = view_random_image(\"pizza_steak/train/\", \"steak\")\n",
        "plt.subplot(1, 2, 2)\n",
        "pizza_img = view_random_image(\"pizza_steak/train/\", \"pizza\");"
      ],
      "metadata": {
        "id": "AqnkBpU2K0h_"
      },
      "execution_count": null,
      "outputs": []
    },
    {
      "cell_type": "markdown",
      "source": [
        "## Preprocess the data (prepare it for a model)"
      ],
      "metadata": {
        "id": "gSyC_NvGLUId"
      }
    },
    {
      "cell_type": "code",
      "source": [
        "# Define directory dataset path\n",
        "train_dir = \"pizza_steak/train\"\n",
        "test_dir = \"pizza_steak/test\""
      ],
      "metadata": {
        "id": "kmsZNaexcWLQ"
      },
      "execution_count": null,
      "outputs": []
    },
    {
      "cell_type": "markdown",
      "source": [
        "Our next step is to turn our data into **batches**.\n",
        "\n",
        "A batch is a small subset of data. Rather than looking at all ~10,000 images at one time, a model might only look at 32 at a time.\n",
        "\n",
        "It does this for a couple of reasons:\n",
        "1. 10,000 images (or more) might not fit into the memory of our processor (GPU)\n",
        "2. Trying to learn the patterns in 10,000 images in one hit could result in the model not being able to learn very well.\n",
        "\n",
        "Why 32?\n",
        "\n",
        "\"Because 32 is good for your health\". Yann LeCun quoute"
      ],
      "metadata": {
        "id": "E0HPo-DwcyKD"
      }
    },
    {
      "cell_type": "code",
      "source": [
        "# Create a train and test data generators and rescale the data\n",
        "from tensorflow.keras.preprocessing.image import ImageDataGenerator\n",
        "\n",
        "train_datagen = ImageDataGenerator(rescale=1/255.)\n",
        "test_datagen = ImageDataGenerator(rescale=1/255.)"
      ],
      "metadata": {
        "id": "d6WJPC_Dcw4Z"
      },
      "execution_count": null,
      "outputs": []
    },
    {
      "cell_type": "code",
      "source": [
        "# Load in our image data from directories and turn them into batches\n",
        "train_data = train_datagen.flow_from_directory(directory=train_dir, # Target directory of images\n",
        "                                               target_size=(224, 224), # Target size of images (height, width)\n",
        "                                               class_mode=\"binary\", # Type of data you're working with\n",
        "                                               batch_size=32) # Size of mini batches to load data into\n",
        "\n",
        "test_data = test_datagen.flow_from_directory(test_dir,\n",
        "                                             target_size=(224, 224),\n",
        "                                             class_mode=\"binary\",\n",
        "                                             batch_size=32)\n"
      ],
      "metadata": {
        "id": "1zskaPcxdlzy"
      },
      "execution_count": null,
      "outputs": []
    },
    {
      "cell_type": "code",
      "source": [
        "# Get a sample of a training data batch\n",
        "images, labels = next(train_data) # get the \"next\" batch of images/labels in train_data\n",
        "len(images), len(labels)"
      ],
      "metadata": {
        "id": "eKbTECTmjsMx"
      },
      "execution_count": null,
      "outputs": []
    },
    {
      "cell_type": "code",
      "source": [
        "# How many batches are there?\n",
        "len(train_data)"
      ],
      "metadata": {
        "id": "PYPUkY6bkR7W"
      },
      "execution_count": null,
      "outputs": []
    },
    {
      "cell_type": "code",
      "source": [
        "1500/32"
      ],
      "metadata": {
        "id": "5frpzU_hk_xT"
      },
      "execution_count": null,
      "outputs": []
    },
    {
      "cell_type": "code",
      "source": [
        "# Get the first two images\n",
        "images[:2], images[:0].shape"
      ],
      "metadata": {
        "id": "Y4bE6bjdlEb-"
      },
      "execution_count": null,
      "outputs": []
    },
    {
      "cell_type": "code",
      "source": [
        "images[7].shape"
      ],
      "metadata": {
        "id": "2xf_X1v1lcn1"
      },
      "execution_count": null,
      "outputs": []
    },
    {
      "cell_type": "code",
      "source": [
        "# View the first batch of labels\n",
        "labels"
      ],
      "metadata": {
        "id": "coGFBpHFlt9D"
      },
      "execution_count": null,
      "outputs": []
    },
    {
      "cell_type": "markdown",
      "source": [
        "### 3. Create a CNN model (start with a baseline)\n",
        "\n",
        "A baseline is relatively simple model or existing results that you setup when beginning a machine learning experiment and then as you keep experimenting, you try to beat the baseline.\n",
        "\n",
        "> 🔑 **Note:** In deep learning, there is almost an infinite amout of architectures you could create. So one of the best ways to get started is to start with something simple and see if it works on your data and then introduce complexity as required (e.g. look at which current model is performing best in the field for your problem.)"
      ],
      "metadata": {
        "id": "uWxpVy2LYUZA"
      }
    },
    {
      "cell_type": "code",
      "source": [
        "# Make the creating of our model a little bit easier\n",
        "from tensorflow.keras.optimizers import Adam\n",
        "from tensorflow.keras.layers import Conv2D, MaxPool2D, Flatten, Dense, Activation\n",
        "from tensorflow.keras import Sequential"
      ],
      "metadata": {
        "id": "_6DRr2fSl9Mn"
      },
      "execution_count": null,
      "outputs": []
    },
    {
      "cell_type": "code",
      "source": [
        "# Create the model (this will be our baseline, a layer of convolutional neural network)\n",
        "model_4 = Sequential([\n",
        "    Conv2D(filters=10, # filter is the number of sliding windows going across and input (higher = more complex model)\n",
        "           kernel_size=3, # the size of the sliding windown going arcoss and input\n",
        "           strides=1, # the size of the step the sliding windown takes across an input\n",
        "           padding=\"valid\", # if \"same\", output shape is same as input shape, if \"valid\", output shape gets compressed\n",
        "           activation=\"relu\",\n",
        "           input_shape=(224, 224, 3)), # input layer (specified input shape)\n",
        "    Conv2D(10, 3, activation=\"relu\"),\n",
        "    Conv2D(10, 3, activation=\"relu\"),\n",
        "    MaxPool2D(2),\n",
        "    Flatten(),\n",
        "    Dense(1, activation=\"sigmoid\") # output layer (working with binary classification so only 1 input neuron)\n",
        "])"
      ],
      "metadata": {
        "id": "j_szclKRceIO"
      },
      "execution_count": null,
      "outputs": []
    },
    {
      "cell_type": "markdown",
      "source": [
        "🛠️ **Practice:** Understand what is going on in a Conv2D layer by going through the CNN explainer website. https://poloclub.github.io/cnn-explainer/"
      ],
      "metadata": {
        "id": "7mrZfEkfoNNp"
      }
    },
    {
      "cell_type": "code",
      "source": [
        "# Compile the model\n",
        "model_4.compile(loss=\"binary_crossentropy\",\n",
        "                optimizer=Adam(),\n",
        "                metrics=[\"accuracy\"])"
      ],
      "metadata": {
        "id": "wNn3rKhxeAvY"
      },
      "execution_count": null,
      "outputs": []
    },
    {
      "cell_type": "code",
      "source": [
        "# Get a summary of our model\n",
        "model_4.summary()"
      ],
      "metadata": {
        "id": "ErMFIIv0wWHF"
      },
      "execution_count": null,
      "outputs": []
    },
    {
      "cell_type": "markdown",
      "source": [
        "### 4. Fit the model"
      ],
      "metadata": {
        "id": "uaKZ5baSwRn7"
      }
    },
    {
      "cell_type": "code",
      "source": [
        "# Check the length of training and test data generators\n",
        "len(train_data), len(test_data)"
      ],
      "metadata": {
        "id": "LNQfQinJwUuB"
      },
      "execution_count": null,
      "outputs": []
    },
    {
      "cell_type": "code",
      "source": [
        "# Fit the model\n",
        "history_4 = model_4.fit(train_data, # this is a combination of labels and sample data\n",
        "                        epochs=5,\n",
        "                        steps_per_epoch=len(train_data) * 5,\n",
        "                        validation_data=test_data,\n",
        "                        validation_steps=len(test_data) * 5)"
      ],
      "metadata": {
        "id": "c3sQbLZGw4q6"
      },
      "execution_count": null,
      "outputs": []
    },
    {
      "cell_type": "code",
      "source": [
        "model_1.evaluate(test_data)"
      ],
      "metadata": {
        "id": "rhtzp7P6yfnB"
      },
      "execution_count": null,
      "outputs": []
    },
    {
      "cell_type": "markdown",
      "source": [
        "### 5. Evaluating our model\n",
        "\n",
        "It looks like our model is learning something, let's evaluate it."
      ],
      "metadata": {
        "id": "JKT2G1Lc99xW"
      }
    },
    {
      "cell_type": "code",
      "source": [
        "import pandas as pd\n",
        "pd.DataFrame(history_4.history).plot(figsize=(10, 7));"
      ],
      "metadata": {
        "id": "tNpMs55r1KCI"
      },
      "execution_count": null,
      "outputs": []
    },
    {
      "cell_type": "code",
      "source": [
        "# Plot the validation and training curves separately\n",
        "def plot_loss_curves(history):\n",
        "  \"\"\"\n",
        "  Returns separate loss curves for training and validation metrics.\n",
        "  \"\"\"\n",
        "  loss = history.history[\"loss\"]\n",
        "  val_loss = history.history[\"val_loss\"]\n",
        "\n",
        "  accuracy = history.history[\"accuracy\"]\n",
        "  val_accuracy = history.history[\"val_accuracy\"]\n",
        "\n",
        "  epochs = range(len(history.history[\"loss\"])) # how many epochs did we run for?\n",
        "\n",
        "  # Plot loss\n",
        "  plt.plot(epochs, loss, label=\"training_loss\")\n",
        "  plt.plot(epochs, val_loss, label=\"val_loss\")\n",
        "  plt.title(\"Loss\")\n",
        "  plt.xlabel(\"Epochs\")\n",
        "  plt.legend()\n",
        "\n",
        "  # Plot accuracy\n",
        "  plt.figure()\n",
        "  plt.plot(epochs, accuracy, label=\"training_accuracy\")\n",
        "  plt.plot(epochs, val_accuracy, label=\"val_loss\")\n",
        "  plt.title(\"accuracy\")\n",
        "  plt.xlabel(\"Epochs\")\n",
        "  plt.legend()"
      ],
      "metadata": {
        "id": "tlDQd8KQ-a9e"
      },
      "execution_count": null,
      "outputs": []
    },
    {
      "cell_type": "markdown",
      "source": [
        "> 🔑 **Note:** When a model's **validation loss starts to increase**, it's likely that the model is **overfitting** the training dataset. This means it's learning the patterns in the training set *too well* and thus the model's ability to generalize to unseen data will be diminished."
      ],
      "metadata": {
        "id": "1kz9BSs1A3Y4"
      }
    },
    {
      "cell_type": "code",
      "source": [
        "# Check out the loss and accuracy for model_4\n",
        "plot_loss_curves(history_4)"
      ],
      "metadata": {
        "id": "RvY3_oM6AbBg"
      },
      "execution_count": null,
      "outputs": []
    },
    {
      "cell_type": "markdown",
      "source": [
        "🔑 **Note:** Ideally the loss curves (traininf and validation) will be very similar to each other (training and validation loss decreasing at similar rates), when there are large difference your model may be **overfitting**."
      ],
      "metadata": {
        "id": "8ncaVM8tHb21"
      }
    },
    {
      "cell_type": "markdown",
      "source": [
        "## 6. Adjust the model parameters\n",
        "\n",
        "Fitting a machine learning model comes in 3 steps:\n",
        "\n",
        "0. Create a baseline\n",
        "1. Beat the baseline by overfitting a larger model\n",
        "2. Reduce overfitting\n",
        "\n",
        "Ways to induce overfitting:\n",
        "\n",
        "* Increase the number of conv layers\n",
        "* Increase the number of conv filters\n",
        "* Add another dense layer to the output of our flattened layer\n",
        "\n",
        "Reduce overfitting:\n",
        "* Add data augmentation\n",
        "* Add regularization layers (such as MaxPool2D)\n",
        "* Add more data...\n",
        "\n",
        "> 🔑 **Note:** Reducing overfitting is also known as **regularization**"
      ],
      "metadata": {
        "id": "qQW8LoftArRd"
      }
    },
    {
      "cell_type": "code",
      "source": [
        "# Create the model (this is going to be our new baseline)\n",
        "model_5 = Sequential([\n",
        "    Conv2D(10, 3, activation=\"relu\", input_shape=(224, 224, 3)),\n",
        "    MaxPool2D(pool_size=2),\n",
        "    Conv2D(10, 3, activation=\"relu\"),\n",
        "    MaxPool2D(),\n",
        "    Conv2D(10, 3, activation=\"relu\"),\n",
        "    MaxPool2D(),\n",
        "    Flatten(),\n",
        "    Dense(1, activation=\"sigmoid\")\n",
        "])"
      ],
      "metadata": {
        "id": "CulD94Gn9MnT"
      },
      "execution_count": null,
      "outputs": []
    },
    {
      "cell_type": "code",
      "source": [
        "# Compile the model\n",
        "model_5.compile(loss=\"binary_crossentropy\",\n",
        "                optimizer=Adam(),\n",
        "                metrics=[\"accuracy\"])"
      ],
      "metadata": {
        "id": "KMMKqFXl-ypY"
      },
      "execution_count": null,
      "outputs": []
    },
    {
      "cell_type": "code",
      "source": [
        "# Fit the model\n",
        "history_5 = model_5.fit(train_data,\n",
        "                        epochs=5,\n",
        "                        steps_per_epoch=len(train_data) * 5,\n",
        "                        validation_data=test_data,\n",
        "                        validation_steps=len(valid_data) * 5)"
      ],
      "metadata": {
        "id": "uE_B9reP_zTv"
      },
      "execution_count": null,
      "outputs": []
    },
    {
      "cell_type": "code",
      "source": [
        "# Get a summary of our model with MaxPool\n",
        "model_5.summary()"
      ],
      "metadata": {
        "id": "awC5fRnPAHW5"
      },
      "execution_count": null,
      "outputs": []
    },
    {
      "cell_type": "code",
      "source": [
        "# Plot loss curves\n",
        "plot_loss_curves(history_5)"
      ],
      "metadata": {
        "id": "gwuhXcynAacR"
      },
      "execution_count": null,
      "outputs": []
    },
    {
      "cell_type": "markdown",
      "source": [
        "### Opening our bag of tricks and finding data augmentation"
      ],
      "metadata": {
        "id": "rwsdcbMCAm7s"
      }
    },
    {
      "cell_type": "code",
      "source": [
        "# Create ImageDataGenerator training instance with data augmentations\n",
        "train_datagen_augmented = ImageDataGenerator(rescale=1/255.,\n",
        "                                             rotation_range=0.2, # how much do you want to rotate an image?\n",
        "                                             shear_range=0.2, # how much do you want to shear and image?\n",
        "                                             zoom_range=0.2, # zoom in randomly on an image\n",
        "                                             width_shift_range=0.2, # move your image around on the x-axis\n",
        "                                             height_shift_range=0.2, # move your image around on the y-axis\n",
        "                                             horizontal_flip=True) # do you want to flip an image?\n",
        "\n",
        "# Create ImageDataGenerator without data augmentation\n",
        "train_datagen = ImageDataGenerator(rescale=1/255.)\n",
        "\n",
        "# Create ImageDataGenerator without data augmentation for the test dataset\n",
        "test_datagen_augmented = ImageDataGenerator(rescale=1/255.)"
      ],
      "metadata": {
        "id": "6qNS8da9CL2T"
      },
      "execution_count": null,
      "outputs": []
    },
    {
      "cell_type": "markdown",
      "source": [
        "> 🤔 **Question:** What is data Augmentation?\n",
        "\n",
        "Data augmentation is the process of altering our training data, leading it to have more diversity and in turn allowing our model to learn more generalizable (hopefully) patterns.\n",
        "Altering might mean adjusting the rotation of an image, flipping it, cropping it or something similar.\n",
        "\n",
        "Let's write some code to visualize data augmentation..."
      ],
      "metadata": {
        "id": "jfktzRm1FhvY"
      }
    },
    {
      "cell_type": "code",
      "source": [
        "# Import data and augment it from training directory\n",
        "print(\"Augmented training data\")\n",
        "train_data_augmented = train_datagen_augmented.flow_from_directory(train_dir,\n",
        "                                                                   target_size=(224, 224),\n",
        "                                                                   batch_size=32,\n",
        "                                                                   class_mode=\"binary\",\n",
        "                                                                   shuffle=False) # for demonstration purposes only\n",
        "\n",
        "\n",
        "# Create non-augment train data batches\n",
        "print(\"Non-augmented training data\")\n",
        "train_data = train_datagen.flow_from_directory(train_dir,\n",
        "                                              target_size=(224, 224),\n",
        "                                              batch_size=32,\n",
        "                                              class_mode=\"binary\",\n",
        "                                              shuffle=False)\n",
        "\n",
        "IMG_SIZE = (224, 224)\n",
        "# Create non-augmented test data batches\n",
        "print(\"Non-augmented test data\")\n",
        "test_data = test_datagen.flow_from_directory(test_dir,\n",
        "                                             target_size=IMG_SIZE,\n",
        "                                             batch_size=32,\n",
        "                                             class_mode=\"binary\",\n",
        "                                             shuffle=False)"
      ],
      "metadata": {
        "id": "yfpXTBblFgk1"
      },
      "execution_count": null,
      "outputs": []
    },
    {
      "cell_type": "markdown",
      "source": [
        "> 🔑 **Note:** Data augmentation is usually only performed on the training data. Using `ImageDataGenerator` built in data augmentation parameters our images are left as there are in the directories but are modified as they're loaded in the model.\n",
        "\n",
        "Finally... let's visualize some augmented data."
      ],
      "metadata": {
        "id": "Q5A7x7UjSi2U"
      }
    },
    {
      "cell_type": "code",
      "source": [
        "# Get sample data batches\n",
        "images, labels = train_data.__next__()\n",
        "augmented_images, augmented_labels = train_data_augmented.__next__() # note: labels aren't augmented... only data (images)"
      ],
      "metadata": {
        "id": "RMYbA4h-RmMj"
      },
      "execution_count": null,
      "outputs": []
    },
    {
      "cell_type": "code",
      "source": [
        "# Show original images and augmented images\n",
        "import random\n",
        "random_number = random.randint(0, 32) # our batch sizes are 32...\n",
        "print(f\"Showing image number: {random_number}\")\n",
        "plt.imshow(images[random_number])\n",
        "plt.title(f\"Original image\")\n",
        "plt.axis(False)\n",
        "plt.figure()\n",
        "plt.imshow(augmented_images[random_number])\n",
        "plt.title(f\"Augmented image\")\n",
        "plt.axis(False);"
      ],
      "metadata": {
        "id": "6IrRMqOnUQSd"
      },
      "execution_count": null,
      "outputs": []
    },
    {
      "cell_type": "markdown",
      "source": [
        "Now we've seen what augmented training data looks like, let's build a model and see how it learns on augmented data."
      ],
      "metadata": {
        "id": "zbElUOaH_Hf8"
      }
    },
    {
      "cell_type": "code",
      "source": [
        "# Create a model (same as model_5)\n",
        "model_6 = Sequential([\n",
        "    Conv2D(10, 3, activation=\"relu\"),\n",
        "    MaxPool2D(pool_size=2),\n",
        "    Conv2D(10, 3, activation=\"relu\"),\n",
        "    MaxPool2D(),\n",
        "    Conv2D(10, 3, activation=\"relu\"),\n",
        "    MaxPool2D(),\n",
        "    Flatten(),\n",
        "    Dense(1, activation=\"sigmoid\")\n",
        "])\n",
        "\n",
        "# Compile the model\n",
        "model_6.compile(loss=\"binary_crossentropy\",\n",
        "                optimizer=Adam(),\n",
        "                metrics=[\"accuracy\"])\n",
        "\n",
        "# Fit the model\n",
        "history_6 = model_6.fit(train_data_augmented, # fitting model_6 on augmented training data\n",
        "                        epochs=5,\n",
        "                        steps_per_epoch=len(train_data_augmented) * 5,\n",
        "                        validation_data=test_data,\n",
        "                        validation_steps=len(test_data)*5)"
      ],
      "metadata": {
        "id": "-mqS0c_aXA6j"
      },
      "execution_count": null,
      "outputs": []
    },
    {
      "cell_type": "code",
      "source": [
        "# Check our models training curves\n",
        "plot_loss_curves(history_6)"
      ],
      "metadata": {
        "id": "cDTMCwj-AuzW"
      },
      "execution_count": null,
      "outputs": []
    },
    {
      "cell_type": "markdown",
      "source": [
        "Let's shuffle our augmented training data and train another model (same as before) and see what happens."
      ],
      "metadata": {
        "id": "p7EBFd0UCg5e"
      }
    },
    {
      "cell_type": "code",
      "source": [
        "# Import data and augment it and shuffle it from our training directory\n",
        "train_data_augmented_shuffled = train_datagen_augmented.flow_from_directory(train_dir,\n",
        "                                                                   target_size=(224, 224),\n",
        "                                                                   batch_size=32,\n",
        "                                                                   class_mode=\"binary\",\n",
        "                                                                   shuffle=True) # shuffle data this time (default)"
      ],
      "metadata": {
        "id": "adbzVb6JB5Cn"
      },
      "execution_count": null,
      "outputs": []
    },
    {
      "cell_type": "code",
      "source": [
        "# Create the model (same as model_5 & model_6)\n",
        "model_7 = Sequential([\n",
        "    Conv2D(10, 3, activation=\"relu\", input_shape=(224, 224, 3)),\n",
        "    MaxPool2D(pool_size=2),\n",
        "    Conv2D(10, 3, activation=\"relu\"),\n",
        "    MaxPool2D(),\n",
        "    Conv2D(10, 3, activation=\"relu\"),\n",
        "    MaxPool2D(),\n",
        "    Flatten(),\n",
        "    Dense(1, activation=\"sigmoid\")\n",
        "])\n",
        "\n",
        "# Compile the model\n",
        "model_7.compile(loss=\"binary_crossentropy\",\n",
        "                optimizer=Adam(),\n",
        "                metrics=[\"accuracy\"])\n",
        "\n",
        "# Fit the model\n",
        "history_7 = model_7.fit(train_data_augmented_shuffled, # we're fitting on augmented and shuffled data now\n",
        "                        epochs=5,\n",
        "                        steps_per_epoch=len(train_data_augmented_shuffled) * 5,\n",
        "                        validation_data=test_data,\n",
        "                        validation_steps=len(test_data) * 5)"
      ],
      "metadata": {
        "id": "17Q_qUtnDQfq"
      },
      "execution_count": null,
      "outputs": []
    },
    {
      "cell_type": "code",
      "source": [
        "# Plot the loss curves\n",
        "plot_loss_curves(history_7)"
      ],
      "metadata": {
        "id": "8qEBNBwNENOI"
      },
      "execution_count": null,
      "outputs": []
    },
    {
      "cell_type": "markdown",
      "source": [
        "🔑 **Note:** When shuffling training data, the model gets exposed to all different kinds of data during training, thus enabling it to learn features across a wide array of images (in our case, pizza &steak at the same time instead of just pizza then steak)."
      ],
      "metadata": {
        "id": "eBzeSUQyulVc"
      }
    },
    {
      "cell_type": "markdown",
      "source": [
        "### 7. Repeat until satisfied.\n",
        "\n",
        "Since we've already beaten out baseline, there are a few things we could try to continue to imporve our model:\n",
        "\n",
        "* Increase the number of layers (e.g. add more `Conv2D`/ `MaxPool2D` layers)\n",
        "* Increase the number of filters in the convolutional layers (e.g. from 10 to 32 or even 64)\n",
        "* Train for longer (more epochs)\n",
        "* Find an ideal learning rate\n",
        "* Get more data (give the model more opportunity to learn)\n",
        "* Use **transfer learning** to leverage what another image model has learn and adjust it for our own use case."
      ],
      "metadata": {
        "id": "u_wt9o7cvdOb"
      }
    },
    {
      "cell_type": "markdown",
      "source": [
        "## Making a prediction with our trained model on our own custom data"
      ],
      "metadata": {
        "id": "EUo_WTjtGdOj"
      }
    },
    {
      "cell_type": "code",
      "source": [
        "# Classes we're working with\n",
        "print(class_names)"
      ],
      "metadata": {
        "id": "7FUt0BySBun_"
      },
      "execution_count": null,
      "outputs": []
    },
    {
      "cell_type": "code",
      "source": [
        "# View our example images\n",
        "import matplotlib.image as mpimg\n",
        "import matplotlib.pyplot as plt\n",
        "\n",
        "!wget -O 03-steak.jpeg https://raw.githubusercontent.com/mrdbourke/tensorflow-deep-learning/main/images/03-steak.jpeg # Changed the url to download the raw image file\n",
        "steak = mpimg.imread(\"03-steak.jpeg\")\n",
        "plt.imshow(steak)\n",
        "plt.axis(False);"
      ],
      "metadata": {
        "id": "HBHfjVCWDQZz"
      },
      "execution_count": null,
      "outputs": []
    },
    {
      "cell_type": "code",
      "source": [
        "# Check the shape of our image\n",
        "steak.shape"
      ],
      "metadata": {
        "id": "MQseH6k2FIzI"
      },
      "execution_count": null,
      "outputs": []
    },
    {
      "cell_type": "markdown",
      "source": [
        "🔑 **Note:** When you train a neural network and you want to make a prediction with it on your own custom data, it's important that your custom data (or new data) is preprocessed into the same format as the data your model was trained on."
      ],
      "metadata": {
        "id": "xVmn1V6Iu8XH"
      }
    },
    {
      "cell_type": "code",
      "source": [
        "# Create a function to import an image and resize it to be able to be used with our model\n",
        "def load_and_prep_image(filename, img_shape=224):\n",
        "    \"\"\"\n",
        "    Reads an image from filename, turns it into a tensor and reshapes it (img_shape, img_shape, colour_channel).\n",
        "    \"\"\"\n",
        "    # Read in the image\n",
        "    img = tf.io.read_file(filename)\n",
        "    # Decode the read file into a tensor\n",
        "    img = tf.image.decode_image(img)\n",
        "    # Resize the image (to the same size our model was trained on)\n",
        "    img = tf.image.resize(img, size=[img_shape, img_shape])\n",
        "    # Rescale the image (get all values between 0 & 1)\n",
        "    img = img / 255.0\n",
        "    return img"
      ],
      "metadata": {
        "id": "eJKKlgZYvnCJ"
      },
      "execution_count": null,
      "outputs": []
    },
    {
      "cell_type": "code",
      "source": [
        "# Load in and preprocess our custom image\n",
        "steak = load_and_prep_image(\"03-steak.jpeg\")\n",
        "steak"
      ],
      "metadata": {
        "id": "mrIBMY2yHC5O"
      },
      "execution_count": null,
      "outputs": []
    },
    {
      "cell_type": "code",
      "source": [
        "model_7.predict(tf.expand_dims(steak, axis=0))"
      ],
      "metadata": {
        "id": "DWmwQcqkHE_5"
      },
      "execution_count": null,
      "outputs": []
    }
  ]
}