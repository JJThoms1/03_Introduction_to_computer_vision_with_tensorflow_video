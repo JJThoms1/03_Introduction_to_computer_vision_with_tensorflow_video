{
  "nbformat": 4,
  "nbformat_minor": 0,
  "metadata": {
    "colab": {
      "provenance": []
    },
    "kernelspec": {
      "name": "python3",
      "display_name": "Python 3"
    },
    "language_info": {
      "name": "python"
    }
  },
  "cells": [
    {
      "cell_type": "markdown",
      "source": [
        "# Introduction to Convolutional Neural Network and Computer Vision with TensorFlow\n",
        "\n",
        "Computer vision is the practice of writing algorithms which can discover patterns in visual data. Such as a camera of a self-driving car recognizing the car in front."
      ],
      "metadata": {
        "id": "JtvLlcIOBfYz"
      }
    },
    {
      "cell_type": "code",
      "source": [],
      "metadata": {
        "id": "feP1TrGxCS7R"
      },
      "execution_count": null,
      "outputs": []
    }
  ]
}